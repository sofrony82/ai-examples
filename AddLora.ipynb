{
 "cells": [
  {
   "cell_type": "code",
   "execution_count": 7,
   "metadata": {},
   "outputs": [
    {
     "name": "stdout",
     "output_type": "stream",
     "text": [
      "File uploaded successfully with ID: file-e10a41e6-edb7-491b-9663-9dcbf6aa0351\n"
     ]
    },
    {
     "data": {
      "text/plain": [
       "{'name': 'Newmind-Test-rbiz',\n",
       " 'base_model': 'meta-llama/Meta-Llama-3.1-8B',\n",
       " 'source': 'file-e10a41e6-edb7-491b-9663-9dcbf6aa0351',\n",
       " 'description': 'description',\n",
       " 'created_at': 1744043548,\n",
       " 'status': 'validating'}"
      ]
     },
     "execution_count": 7,
     "metadata": {},
     "output_type": "execute_result"
    }
   ],
   "source": [
    "import requests\n",
    "import os\n",
    "\n",
    "api_url=\"https://api.studio.nebius.ai\"\n",
    "base_url=api_url+\"/v1\"\n",
    "openai_api_key=os.getenv(\"OPENAI_API_KEY\")\n",
    "\n",
    "def create_lora_from_file(name, file_name):\n",
    "    with open(file_name, \"rb\") as file_data:\n",
    "        files = {\"file\": (os.path.basename(file_name), file_data)}\n",
    "        upload_response = requests.post(\n",
    "            f\"{api_url}/v0/models/upload\",\n",
    "            files=files,\n",
    "            headers={\"Authorization\": f\"Bearer {openai_api_key}\"}\n",
    "        )\n",
    "    \n",
    "    if upload_response.status_code != 200:\n",
    "        print(f\"Error uploading file: {upload_response.text}\")\n",
    "        return upload_response.json()\n",
    "    \n",
    "    file_info = upload_response.json()\n",
    "    file_id = file_info[\"id\"]\n",
    "    print(f\"File uploaded successfully with ID: {file_id}\")\n",
    "    \n",
    "    # Now create the model using the file ID\n",
    "    lora_creation_request = {\n",
    "        \"source\": file_id,\n",
    "        \"base_model\": \"meta-llama/Meta-Llama-3.1-8B\",\n",
    "        \"name\": name,\n",
    "        \"description\": \"description\"\n",
    "    }\n",
    "    \n",
    "    model_response = requests.post(\n",
    "        f\"{api_url}/v0/models\", \n",
    "        json=lora_creation_request,\n",
    "        headers={\"Content-Type\": \"application/json\", \"Authorization\": f\"Bearer {openai_api_key}\"}\n",
    "    ) \n",
    "    \n",
    "    return(model_response.json())\n",
    "\n",
    "def delete_lora(model):\n",
    "    return requests.delete(f\"{api_url}/v1/models/{model}\",                         \n",
    "      headers={\"Content-Type\": \"application/json\",\"Authorization\": f\"Bearer {os.getenv('NB_STUDIO_API_KEY')}\"})  \n",
    "\n",
    "\n",
    "zip_file_name=\"/Users/sofrony/tmp/LORA.zip\"\n",
    "create_lora_from_file(\"Newmind-Test\", zip_file_name)\n",
    "#delete_lora(\"Newmind-Test-lxrM\")"
   ]
  }
 ],
 "metadata": {
  "kernelspec": {
   "display_name": "venv",
   "language": "python",
   "name": "python3"
  },
  "language_info": {
   "codemirror_mode": {
    "name": "ipython",
    "version": 3
   },
   "file_extension": ".py",
   "mimetype": "text/x-python",
   "name": "python",
   "nbconvert_exporter": "python",
   "pygments_lexer": "ipython3",
   "version": "3.12.8"
  }
 },
 "nbformat": 4,
 "nbformat_minor": 2
}
