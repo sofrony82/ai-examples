{
 "cells": [
  {
   "cell_type": "code",
   "execution_count": 1,
   "metadata": {},
   "outputs": [
    {
     "name": "stdout",
     "output_type": "stream",
     "text": [
      "The weather in Dallas, Texas is 85 degrees fahrenheit. It is partly cloudly, with highs in the 90's.\n"
     ]
    }
   ],
   "source": [
    "import json\n",
    "import os\n",
    "\n",
    "from pydantic import BaseModel, Field\n",
    "from typing import Literal\n",
    "from openai import OpenAI\n",
    "\n",
    "client = OpenAI(\n",
    "    base_url=\"https://api.studio.nebius.ai/v1/\",\n",
    "    api_key=os.getenv('NB_STUDIO_API_KEY')\n",
    ")\n",
    "\n",
    "model = \"meta-llama/Meta-Llama-3.1-8B-Instruct-fast\"\n",
    "\n",
    "class GetCurrentWeatherParams(BaseModel):\n",
    "    city: str = Field(..., description=\"The city to find the weather for, e.g. 'San Francisco'\")\n",
    "    state: str = Field(..., description=\"The two-letter abbreviation for the state that the city is in, e.g. 'CA' for California\")\n",
    "    unit: Literal['celsius', 'fahrenheit'] = Field(..., description=\"The unit to fetch the temperature in\")\n",
    "\n",
    "tools = [{\n",
    "    \"type\": \"function\",\n",
    "    \"function\": {\n",
    "        \"name\": \"get_current_weather\",\n",
    "        \"description\": \"Get the current weather in a given location\",\n",
    "        \"parameters\": GetCurrentWeatherParams.schema()\n",
    "    }\n",
    "}]\n",
    "\n",
    "messages = [{\n",
    "    \"role\": \"user\",\n",
    "    \"content\": \"Hi! How are you doing today?\"\n",
    "}, {\n",
    "    \"role\": \"assistant\",\n",
    "    \"content\": \"I'm doing well! How can I help you?\"\n",
    "}, {\n",
    "    \"role\":\n",
    "    \"user\",\n",
    "    \"content\":\n",
    "    \"Can you tell me what the temperate will be in Dallas, in fahrenheit?\"\n",
    "}]\n",
    "\n",
    "chat_completion = client.chat.completions.create(messages=messages,\n",
    "                                                 model=model,\n",
    "                                                 tools=tools,\n",
    "                                                 tool_choice={\"type\": \"function\",\"function\": {\"name\": \"get_current_weather\"}})\n",
    "\n",
    "\n",
    "messages.append({\n",
    "    \"role\": \"assistant\",\n",
    "    \"tool_calls\": chat_completion.choices[0].message.tool_calls\n",
    "})\n",
    "\n",
    "\n",
    "# Now, simulate a tool call\n",
    "def get_current_weather(city: str, state: str, unit: 'str'):\n",
    "    return (\"The weather in Dallas, Texas is 85 degrees fahrenheit. It is \"\n",
    "            \"partly cloudly, with highs in the 90's.\")\n",
    "\n",
    "\n",
    "available_tools = {\"get_current_weather\": get_current_weather}\n",
    "\n",
    "completion_tool_calls = chat_completion.choices[0].message.tool_calls\n",
    "for call in completion_tool_calls:\n",
    "    tool_to_call = available_tools[call.function.name]\n",
    "    args = json.loads(call.function.arguments)\n",
    "    result = tool_to_call(**args)\n",
    "    print(result)\n",
    "    messages.append({\n",
    "        \"role\": \"tool\",\n",
    "        \"content\": result,\n",
    "        \"tool_call_id\": call.id,\n",
    "        \"name\": call.function.name\n",
    "    })\n"
   ]
  },
  {
   "cell_type": "code",
   "execution_count": 2,
   "metadata": {},
   "outputs": [
    {
     "data": {
      "text/plain": [
       "[{'role': 'user', 'content': 'Hi! How are you doing today?'},\n",
       " {'role': 'assistant', 'content': \"I'm doing well! How can I help you?\"},\n",
       " {'role': 'user',\n",
       "  'content': 'Can you tell me what the temperate will be in Dallas, in fahrenheit?'},\n",
       " {'role': 'assistant',\n",
       "  'tool_calls': [ChatCompletionMessageToolCall(id='chatcmpl-tool-99a7259c139e4aa986549d07cde8df8f', function=Function(arguments='{ \"city\" : \"Dallas\" , \"state\": \"Texas\", \"unit\": \"fahrenheit\" }', name='get_current_weather'), type='function')]},\n",
       " {'role': 'tool',\n",
       "  'content': \"The weather in Dallas, Texas is 85 degrees fahrenheit. It is partly cloudly, with highs in the 90's.\",\n",
       "  'tool_call_id': 'chatcmpl-tool-99a7259c139e4aa986549d07cde8df8f',\n",
       "  'name': 'get_current_weather'}]"
      ]
     },
     "execution_count": 2,
     "metadata": {},
     "output_type": "execute_result"
    }
   ],
   "source": [
    "messages"
   ]
  }
 ],
 "metadata": {
  "kernelspec": {
   "display_name": "Python 3",
   "language": "python",
   "name": "python3"
  },
  "language_info": {
   "codemirror_mode": {
    "name": "ipython",
    "version": 3
   },
   "file_extension": ".py",
   "mimetype": "text/x-python",
   "name": "python",
   "nbconvert_exporter": "python",
   "pygments_lexer": "ipython3",
   "version": "3.12.4"
  }
 },
 "nbformat": 4,
 "nbformat_minor": 2
}
