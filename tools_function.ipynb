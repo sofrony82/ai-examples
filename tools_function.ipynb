{
 "cells": [
  {
   "cell_type": "code",
   "execution_count": 1,
   "metadata": {},
   "outputs": [],
   "source": [
    "import json\n",
    "import os\n",
    "import jsonschema\n",
    "from pydantic import BaseModel\n",
    "from openai import OpenAI\n",
    "\n",
    "client = OpenAI(\n",
    "    base_url=\"https://api.studio.nebius.ai/v1/\",\n",
    "    api_key=os.getenv('NB_STUDIO_API_KEY')\n",
    ")\n",
    "\n",
    "model = \"meta-llama/Meta-Llama-3.1-8B-Instruct-fast\"\n",
    "\n",
    "class WorkHistory(BaseModel):\n",
    "    company: str\n",
    "    duration: float\n",
    "    position: str\n",
    "\n",
    "sample_json_schema = WorkHistory.schema()\n",
    "\n",
    "messages = [{\n",
    "        \"role\": \"system\",\n",
    "        \"content\": \"you are a helpful assistant\"\n",
    "    }, {\n",
    "        \"role\":\n",
    "        \"user\",\n",
    "        \"content\":\n",
    "        f\"Give an example JSON for an employee profile that \"\n",
    "        f\"fits this schema: {sample_json_schema}\"\n",
    "    }]\n",
    "\n",
    "chat_completion = client.chat.completions.create(\n",
    "    model=model,\n",
    "    messages=messages,\n",
    "    max_tokens=1000,\n",
    "    tools=[{\n",
    "        \"type\": \"function\",\n",
    "        \"function\": {\n",
    "            \"name\": \"dummy_function_name\",\n",
    "            \"description\": \"This is a dummy function\",\n",
    "            \"parameters\": sample_json_schema\n",
    "        }\n",
    "    }],\n",
    "    tool_choice={\n",
    "        \"type\": \"function\",\n",
    "        \"function\": {\n",
    "            \"name\": \"dummy_function_name\"\n",
    "        }\n",
    "    })\n",
    "message = chat_completion.choices[0].message\n",
    "\n",
    "json_string = message.tool_calls[0].function.arguments\n",
    "json1 = json.loads(json_string)\n",
    "jsonschema.validate(instance=json1, schema=sample_json_schema)"
   ]
  },
  {
   "cell_type": "code",
   "execution_count": 2,
   "metadata": {},
   "outputs": [
    {
     "data": {
      "text/plain": [
       "{'content': '',\n",
       " 'refusal': None,\n",
       " 'role': 'assistant',\n",
       " 'function_call': None,\n",
       " 'tool_calls': [{'id': 'chatcmpl-tool-b0d02469afc744feaeee8c8d1497d186',\n",
       "   'function': {'arguments': '{\"company\": \"Google\", \"duration\": 5, \"position\": \"Software Engineer\"}',\n",
       "    'name': 'dummy_function_name'},\n",
       "   'type': 'function'}]}"
      ]
     },
     "execution_count": 2,
     "metadata": {},
     "output_type": "execute_result"
    }
   ],
   "source": [
    "message.dict()"
   ]
  }
 ],
 "metadata": {
  "kernelspec": {
   "display_name": "Python 3",
   "language": "python",
   "name": "python3"
  },
  "language_info": {
   "codemirror_mode": {
    "name": "ipython",
    "version": 3
   },
   "file_extension": ".py",
   "mimetype": "text/x-python",
   "name": "python",
   "nbconvert_exporter": "python",
   "pygments_lexer": "ipython3",
   "version": "3.12.4"
  }
 },
 "nbformat": 4,
 "nbformat_minor": 2
}
