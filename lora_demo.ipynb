{
 "cells": [
  {
   "cell_type": "code",
   "execution_count": null,
   "id": "5ce7c2b6",
   "metadata": {},
   "outputs": [],
   "source": [
    "from typing import List, Optional\n",
    "import random\n",
    "import time\n",
    "import os\n",
    "\n",
    "import requests\n",
    "import ipyplot\n",
    "\n",
    "with open(\".token\") as f:\n",
    "  TOKEN = f.read().strip()\n",
    "\n",
    "def gen_image(model: str, loras: Optional[List[dict]], prompt: str, width: int, height: int, num_inference_steps: int):\n",
    "  resp = requests.post(\n",
    "    url=\"https://api.studio.testing.nebius.cloud/v1/images/generations\",\n",
    "    headers={\"Authorization\": f\"Bearer {TOKEN}\"},\n",
    "    json={\n",
    "      \"model\": model,\n",
    "      # NEW optional (backward compatible) field\n",
    "      # [{url, scale}, ...]\n",
    "      \"loras\": loras,\n",
    "      \"prompt\": prompt,\n",
    "      \"width\": width,\n",
    "      \"height\": height,\n",
    "      \"num_inference_steps\": num_inference_steps,\n",
    "    },\n",
    "  )\n",
    "  if resp.status_code != 200:\n",
    "    print(resp.text)\n",
    "    resp.raise_for_status()\n",
    "\n",
    "  image_url = resp.json()['data'][0]['url']\n",
    "  content = None\n",
    "  for i in range(3):\n",
    "    resp = requests.get(image_url)\n",
    "    if resp.status_code == 200:\n",
    "      content = resp.content\n",
    "      break\n",
    "    if resp.status_code != 200:\n",
    "      # BUG: returns 404\n",
    "      print(\"No photo:\", resp.text)\n",
    "      time.sleep(1)\n",
    "      continue\n",
    "      # resp.raise_for_status()\n",
    "\n",
    "  if content is None:\n",
    "    resp.raise_for_status()\n",
    "\n",
    "  os.makedirs(\"images\", exist_ok=True)\n",
    "  name = f\"images/{''.join([random.choice('abcde') for _ in range(10)])}.webp\"\n",
    "  with open(name, \"wb\") as f:\n",
    "    f.write(content)\n",
    "  return name\n",
    "\n",
    "def show_3_pics(**kwargs):\n",
    "  measure = kwargs.get('measure', False)\n",
    "  if 'measure' in kwargs:\n",
    "    del kwargs['measure']\n",
    "\n",
    "  images_list = []\n",
    "  for _ in range(3):\n",
    "    before = time.time()\n",
    "    images_list.append(gen_image(**kwargs))\n",
    "    if measure:\n",
    "      print(f\"Image generated in {round(time.time() - before)}sec\")\n",
    "  ipyplot.plot_images(images_list, max_images=3, img_width=256)"
   ]
  },
  {
   "cell_type": "markdown",
   "id": "0b0a8b9b",
   "metadata": {},
   "source": [
    "# No LoRA"
   ]
  },
  {
   "cell_type": "code",
   "execution_count": null,
   "id": "d46bc4ee",
   "metadata": {},
   "outputs": [],
   "source": [
    "show_3_pics(\n",
    "    model=\"black-forest-labs/flux-dev\",\n",
    "    loras=None,\n",
    "    prompt=\"A fancy cat in sunglasses, Studio Ghibli Dark Fairytale, ArsMJStyle, impressionism\",\n",
    "    width=256,\n",
    "    height=256,\n",
    "    num_inference_steps=26,\n",
    ")"
   ]
  },
  {
   "cell_type": "markdown",
   "id": "64398eae",
   "metadata": {},
   "source": [
    "# Let's add 1 LoRA"
   ]
  },
  {
   "cell_type": "markdown",
   "id": "b94a6474",
   "metadata": {},
   "source": [
    "## Dark Ghibli LoRA"
   ]
  },
  {
   "cell_type": "code",
   "execution_count": null,
   "id": "261e5d03",
   "metadata": {},
   "outputs": [],
   "source": [
    "show_3_pics(\n",
    "    model=\"black-forest-labs/flux-dev\",\n",
    "    loras=[\n",
    "      {\"url\": \"https://civitai.com/api/download/models/1524423?type=Model&format=SafeTensor\", \"scale\": 1},\n",
    "    ],\n",
    "    prompt=\"A fancy cat in sunglasses, Studio Ghibli Dark Fairytale, ArsMJStyle, impressionism\",\n",
    "    width=256,\n",
    "    height=256,\n",
    "    num_inference_steps=26,\n",
    ")"
   ]
  },
  {
   "cell_type": "markdown",
   "id": "fef48eb5",
   "metadata": {},
   "source": [
    "## Impressionism LoRA"
   ]
  },
  {
   "cell_type": "code",
   "execution_count": null,
   "id": "e67f8001",
   "metadata": {},
   "outputs": [],
   "source": [
    "show_3_pics(\n",
    "    model=\"black-forest-labs/flux-dev\",\n",
    "    loras=[\n",
    "      {\"url\": \"https://civitai.com/api/download/models/755598?type=Model&format=SafeTensor\", \"scale\": 0.8},\n",
    "    ],\n",
    "    prompt=\"A fancy cat in sunglasses, Studio Ghibli Dark Fairytale, ArsMJStyle, impressionism\",\n",
    "    width=256,\n",
    "    height=256,\n",
    "    num_inference_steps=26,\n",
    ")"
   ]
  },
  {
   "cell_type": "markdown",
   "id": "1bd5dd51",
   "metadata": {},
   "source": [
    "# Let's use both"
   ]
  },
  {
   "cell_type": "code",
   "execution_count": null,
   "id": "0b917da6",
   "metadata": {},
   "outputs": [],
   "source": [
    "show_3_pics(\n",
    "    model=\"black-forest-labs/flux-dev\",\n",
    "    loras=[\n",
    "      {\"url\": \"https://civitai.com/api/download/models/1524423?type=Model&format=SafeTensor\", \"scale\": 0.7},\n",
    "      {\"url\": \"https://civitai.com/api/download/models/755598?type=Model&format=SafeTensor\", \"scale\": 0.7},\n",
    "    ],\n",
    "    prompt=\"A fancy cat in sunglasses, Studio Ghibli Dark Fairytale, ArsMJStyle, impressionism\",\n",
    "    width=256,\n",
    "    height=256,\n",
    "    num_inference_steps=26,\n",
    ")"
   ]
  },
  {
   "cell_type": "markdown",
   "id": "b6625372",
   "metadata": {},
   "source": [
    "# Other models & auth"
   ]
  },
  {
   "cell_type": "markdown",
   "id": "c5342797",
   "metadata": {},
   "source": [
    "## No LoRA"
   ]
  },
  {
   "cell_type": "code",
   "execution_count": null,
   "id": "efe4042f",
   "metadata": {},
   "outputs": [],
   "source": [
    "show_3_pics(\n",
    "    model=\"black-forest-labs/flux-schnell\",\n",
    "    loras=None,\n",
    "    prompt=\"xuer Asgard City,Diesel punk, diesel punk style,Realistic，Hyper-realistic，motion blur,going really fast masterpiece, deep focus, exaggerated Ghost in the Shell scenes and girl In a sci-fi mechanical chariot, in the style of cyberpunk imagery, in the style of hyper-realistic sci-fi, 32k uhd, marc simonetti, realistic and hyper-detailed renderings, snailcore, artgerm, neo-futuristic grand cybernetwork buildings, patchwork, exquisite details, complex and reasonable structures, bright, daytime, bustling cybercity and streets,full-line projection screens, special effects, laser rain, fluorescence, Asgard City, patchwork,  neon lights, Regular, Special Effects, Holographic Network, Exaggerated Facade, Walker, cinematic photo This is a poster about the Asgard City，It has a realistic picture effect，The picture is messy and extremely rich in details，(The theme text of the poster is: 'XUER':1.2)，One line apart,(the subtitle below reads: 'Asgard City':1.2), golden hour,unconventional supreme masterpiece,masterful details,temperate atmosphere,with a high-end texture,in the style of fashion photography,magazine cover,Dynamic Angle,Dynamic posture,Perspective, unconventional supreme masterpiece,masterful details,see-through,light particles,realistic，Silk, embroidery,Rust,Blue eyes\",\n",
    "    width=256,\n",
    "    height=256,\n",
    "    num_inference_steps=16,\n",
    ")"
   ]
  },
  {
   "cell_type": "markdown",
   "id": "de8906ef",
   "metadata": {},
   "source": [
    "## LoRA under authwall\n",
    "https://civitai.com/models/329635?modelVersionId=899864"
   ]
  },
  {
   "cell_type": "code",
   "execution_count": null,
   "id": "13dd0973",
   "metadata": {},
   "outputs": [],
   "source": [
    "show_3_pics(\n",
    "    model=\"black-forest-labs/flux-schnell\",\n",
    "    loras=[\n",
    "      {\"url\": \"https://civitai.com/models/329635?modelVersionId=899864\", \"scale\": 1.0},\n",
    "    ],\n",
    "    prompt=\"xuer Asgard City,Diesel punk, diesel punk style,Realistic，Hyper-realistic，motion blur,going really fast masterpiece, deep focus, exaggerated Ghost in the Shell scenes and girl In a sci-fi mechanical chariot, in the style of cyberpunk imagery, in the style of hyper-realistic sci-fi, 32k uhd, marc simonetti, realistic and hyper-detailed renderings, snailcore, artgerm, neo-futuristic grand cybernetwork buildings, patchwork, exquisite details, complex and reasonable structures, bright, daytime, bustling cybercity and streets,full-line projection screens, special effects, laser rain, fluorescence, Asgard City, patchwork,  neon lights, Regular, Special Effects, Holographic Network, Exaggerated Facade, Walker, cinematic photo This is a poster about the Asgard City，It has a realistic picture effect，The picture is messy and extremely rich in details，(The theme text of the poster is: 'XUER':1.2)，One line apart,(the subtitle below reads: 'Asgard City':1.2), golden hour,unconventional supreme masterpiece,masterful details,temperate atmosphere,with a high-end texture,in the style of fashion photography,magazine cover,Dynamic Angle,Dynamic posture,Perspective, unconventional supreme masterpiece,masterful details,see-through,light particles,realistic，Silk, embroidery,Rust,Blue eyes\",\n",
    "    width=256,\n",
    "    height=256,\n",
    "    num_inference_steps=16,\n",
    ")"
   ]
  },
  {
   "cell_type": "markdown",
   "id": "34c3af35",
   "metadata": {},
   "source": [
    "# LoRA validation and SDXL"
   ]
  },
  {
   "cell_type": "markdown",
   "id": "66fa7876",
   "metadata": {},
   "source": [
    "Only civitai is allowed by now"
   ]
  },
  {
   "cell_type": "code",
   "execution_count": null,
   "id": "9cb3e3e7",
   "metadata": {},
   "outputs": [],
   "source": [
    "try:\n",
    "    show_3_pics(\n",
    "        model=\"black-forest-labs/flux-dev\",\n",
    "        loras=[\n",
    "          {\"url\": \"https://civitai.com/api/download/models/1524423?type=Model&format=SafeTensor\", \"scale\": 0.7},\n",
    "          {\"url\": \"https://example.com/lora.safetensors\", \"scale\": 0.7},\n",
    "        ],\n",
    "        prompt=\"A fancy cat in sunglasses, Studio Ghibli Dark Fairytale, ArsMJStyle, impressionism\",\n",
    "        width=256,\n",
    "        height=256,\n",
    "        num_inference_steps=26,\n",
    "    )\n",
    "except Exception as e:\n",
    "    print(e)"
   ]
  },
  {
   "cell_type": "markdown",
   "id": "61035f00",
   "metadata": {},
   "source": [
    "LoRAs can be < 1GiB, I validate it before downloading"
   ]
  },
  {
   "cell_type": "code",
   "execution_count": null,
   "id": "9f3e3b7c",
   "metadata": {},
   "outputs": [],
   "source": [
    "try:\n",
    "    show_3_pics(\n",
    "        model=\"black-forest-labs/flux-dev\",\n",
    "        loras=[\n",
    "          {\"url\": \"https://civitai.com/api/download/models/1524423?type=Model&format=SafeTensor\", \"scale\": 0.7},\n",
    "          {\"url\": \"https://civitai.com/models/251417/midjourney-mimic?modelVersionId=283697\", \"scale\": 0.7},\n",
    "        ],\n",
    "        prompt=\"A fancy cat in sunglasses, Studio Ghibli Dark Fairytale, ArsMJStyle, impressionism\",\n",
    "        width=256,\n",
    "        height=256,\n",
    "        num_inference_steps=26,\n",
    "    )\n",
    "except Exception as e:\n",
    "    print(e)"
   ]
  },
  {
   "cell_type": "markdown",
   "id": "73e9c752",
   "metadata": {},
   "source": [
    "civitai.green now works, also caching of LoRA works"
   ]
  },
  {
   "cell_type": "code",
   "execution_count": null,
   "id": "dd9d5d0a",
   "metadata": {},
   "outputs": [],
   "source": [
    "show_3_pics(\n",
    "    model=\"black-forest-labs/flux-dev\",\n",
    "    loras=[\n",
    "      {\"url\": \"https://civitai.green/models/1381703/80s-vintage-photography-schnell-flux-lora?modelVersionId=1590102\", \"scale\": 1.0},\n",
    "    ],\n",
    "    prompt=\"Cat in vintage glasses, old film quality, vntg80_photo\",\n",
    "    width=256,\n",
    "    height=256,\n",
    "    num_inference_steps=26,\n",
    "    measure=True,\n",
    ")"
   ]
  },
  {
   "cell_type": "markdown",
   "id": "e2f42b04",
   "metadata": {},
   "source": [
    "## SDXL 1.0 Works"
   ]
  },
  {
   "cell_type": "markdown",
   "id": "458307e1",
   "metadata": {},
   "source": [
    "Without LoRA"
   ]
  },
  {
   "cell_type": "code",
   "execution_count": null,
   "id": "2c6ef65b",
   "metadata": {},
   "outputs": [],
   "source": [
    "show_3_pics(\n",
    "    model=\"stability-ai/sdxl\",\n",
    "    loras=None,\n",
    "    prompt=\"a Delorean on synthwave city <lora:pixelbuildings128-v2:1>\",\n",
    "    width=1024,\n",
    "    height=1024,\n",
    "    num_inference_steps=64,\n",
    "    measure=True,\n",
    ")"
   ]
  },
  {
   "cell_type": "markdown",
   "id": "3b4b8092",
   "metadata": {},
   "source": [
    "With LoRA"
   ]
  },
  {
   "cell_type": "code",
   "execution_count": null,
   "id": "b6712990",
   "metadata": {},
   "outputs": [],
   "source": [
    "show_3_pics(\n",
    "    model=\"stability-ai/sdxl\",\n",
    "    loras=[\n",
    "      {\"url\": \"https://civitai.com/models/120096/pixel-art-xl?modelVersionId=135931\", \"scale\": 1.0},\n",
    "    ],\n",
    "    prompt=\"a Delorean on synthwave city <lora:pixelbuildings128-v2:1>\",\n",
    "    width=1024,\n",
    "    height=1024,\n",
    "    num_inference_steps=64,\n",
    "    measure=True,\n",
    ")"
   ]
  },
  {
   "cell_type": "markdown",
   "id": "22615417",
   "metadata": {},
   "source": [
    "Without LoRA"
   ]
  },
  {
   "cell_type": "code",
   "execution_count": null,
   "id": "a62fe460",
   "metadata": {},
   "outputs": [],
   "source": [
    "show_3_pics(\n",
    "    model=\"stability-ai/sdxl\",\n",
    "    loras=None,\n",
    "    prompt=\"dwarf warrior, long beard, heavily armored, shield, fantasy, epic, in the snow,  <lora:EpicF4nta5yXL:0.8>\",\n",
    "    width=1024,\n",
    "    height=1024,\n",
    "    num_inference_steps=64,\n",
    "    measure=True,\n",
    ")"
   ]
  },
  {
   "cell_type": "markdown",
   "id": "87fc9e40",
   "metadata": {},
   "source": [
    "Some other LoRA"
   ]
  },
  {
   "cell_type": "code",
   "execution_count": null,
   "id": "e97f9deb",
   "metadata": {},
   "outputs": [],
   "source": [
    "show_3_pics(\n",
    "    model=\"stability-ai/sdxl\",\n",
    "    loras=[\n",
    "      {\"url\": \"https://civitai.com/models/470073/popyays-epic-fantasy-style-or-pony-and-sdxl?modelVersionId=560995\", \"scale\": 0.8},\n",
    "    ],\n",
    "    prompt=\"dwarf warrior, long beard, heavily armored, shield, fantasy, epic, in the snow,  <lora:EpicF4nta5yXL:0.8>\",\n",
    "    width=1024,\n",
    "    height=1024,\n",
    "    num_inference_steps=64,\n",
    "    measure=True,\n",
    ")"
   ]
  }
 ],
 "metadata": {
  "kernelspec": {
   "display_name": ".venv",
   "language": "python",
   "name": "python3"
  },
  "language_info": {
   "codemirror_mode": {
    "name": "ipython",
    "version": 3
   },
   "file_extension": ".py",
   "mimetype": "text/x-python",
   "name": "python",
   "nbconvert_exporter": "python",
   "pygments_lexer": "ipython3",
   "version": "3.12.0"
  }
 },
 "nbformat": 4,
 "nbformat_minor": 5
}
