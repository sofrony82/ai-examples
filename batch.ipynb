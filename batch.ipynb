{
 "cells": [
  {
   "cell_type": "code",
   "execution_count": 735,
   "metadata": {},
   "outputs": [],
   "source": [
    "import os\n",
    "from openai import OpenAI\n",
    "\n",
    "client = OpenAI(\n",
    "    base_url=\"https://api.studio.nebius.ai/v1/\",\n",
    "    api_key=os.getenv('NB_STUDIO_API_KEY', ''),\n",
    ")\n"
   ]
  },
  {
   "cell_type": "code",
   "execution_count": 737,
   "metadata": {},
   "outputs": [
    {
     "data": {
      "text/plain": [
       "{'id': 'd8af680e-9be8-4634-b4a5-cfd675067aef',\n",
       " 'bytes': 9120315571,\n",
       " 'created_at': 1729516591,\n",
       " 'filename': 'batch.jsonl',\n",
       " 'object': 'file',\n",
       " 'purpose': 'batch',\n",
       " 'status': None,\n",
       " 'status_details': None}"
      ]
     },
     "execution_count": 737,
     "metadata": {},
     "output_type": "execute_result"
    }
   ],
   "source": [
    "batch_input_file = client.files.create(\n",
    "  file=open(\"/Users/sofrony/batch.jsonl\", \"rb\"),\n",
    "  purpose=\"batch\"\n",
    ")\n",
    "\n",
    "batch_input_file.dict()\n"
   ]
  },
  {
   "cell_type": "code",
   "execution_count": 738,
   "metadata": {},
   "outputs": [
    {
     "name": "stdout",
     "output_type": "stream",
     "text": [
      "d8af680e-9be8-4634-b4a5-cfd675067aef\n"
     ]
    },
    {
     "data": {
      "text/plain": [
       "{'id': 'batch_3416ef9e-7176-4ba1-8b00-8080984e0970',\n",
       " 'completion_window': '24h',\n",
       " 'created_at': 1729516667,\n",
       " 'endpoint': '/v1/chat/completions',\n",
       " 'input_file_id': 'd8af680e-9be8-4634-b4a5-cfd675067aef',\n",
       " 'object': 'batch',\n",
       " 'status': 'validating',\n",
       " 'request_counts': {}}"
      ]
     },
     "execution_count": 738,
     "metadata": {},
     "output_type": "execute_result"
    }
   ],
   "source": [
    "batch_input_file_id = batch_input_file.id\n",
    "print(batch_input_file_id)\n",
    "\n",
    "batch_id = client.batches.create(\n",
    "    input_file_id=batch_input_file_id,\n",
    "    endpoint=\"/v1/chat/completions\",\n",
    "    completion_window=\"24h\",\n",
    "    metadata={\n",
    "      \"description\": \"nightly eval job\"\n",
    "    }\n",
    ")\n",
    "\n",
    "batch_id.to_dict()"
   ]
  },
  {
   "cell_type": "code",
   "execution_count": 739,
   "metadata": {},
   "outputs": [
    {
     "data": {
      "text/plain": [
       "{'id': 'batch_3416ef9e-7176-4ba1-8b00-8080984e0970',\n",
       " 'completion_window': '24h',\n",
       " 'created_at': 1729516667,\n",
       " 'endpoint': '/v1/chat/completions',\n",
       " 'input_file_id': 'd8af680e-9be8-4634-b4a5-cfd675067aef',\n",
       " 'object': 'batch',\n",
       " 'status': 'validating',\n",
       " 'completed_at': None,\n",
       " 'error_file_id': None,\n",
       " 'finalizing_at': None,\n",
       " 'in_progress_at': None,\n",
       " 'output_file_id': None,\n",
       " 'request_counts': {}}"
      ]
     },
     "execution_count": 739,
     "metadata": {},
     "output_type": "execute_result"
    }
   ],
   "source": [
    "\n",
    "status = client.batches.retrieve(batch_id.id)\n",
    "status.to_dict()\n",
    "\n",
    "\n"
   ]
  },
  {
   "cell_type": "code",
   "execution_count": 734,
   "metadata": {},
   "outputs": [
    {
     "data": {
      "text/plain": [
       "{'id': '49306266-0088-4601-8ca8-0880717c864d',\n",
       " 'bytes': 9120315571,\n",
       " 'created_at': 1729513696,\n",
       " 'filename': 'batch.jsonl',\n",
       " 'object': 'file',\n",
       " 'purpose': 'batch',\n",
       " 'status': None,\n",
       " 'status_details': None}"
      ]
     },
     "execution_count": 734,
     "metadata": {},
     "output_type": "execute_result"
    }
   ],
   "source": [
    "file_response = client.files.retrieve(\"49306266-0088-4601-8ca8-0880717c864d\")\n",
    "file_response.dict()"
   ]
  },
  {
   "cell_type": "code",
   "execution_count": 720,
   "metadata": {},
   "outputs": [
    {
     "name": "stdout",
     "output_type": "stream",
     "text": [
      "{'id': 'batch_req_6e8e935f-fdc5-4240-9610-a108adc0dd81', 'custom_id': 'request-1', 'response': {'id': 'chat-a60a641fcb6143659d6e5f3065324fe2', 'choices': [{'finish_reason': 'stop', 'index': 0, 'logprobs': None, 'message': {'content': 'How can I assist you today?', 'role': 'assistant', 'function_call': None, 'tool_calls': []}, 'stop_reason': None}], 'created': 1729503197, 'model': 'meta-llama/Meta-Llama-3.1-8B-Instruct-fast', 'object': 'chat.completion', 'service_tier': None, 'system_fingerprint': None, 'usage': {'completion_tokens': 8, 'prompt_tokens': 42, 'total_tokens': 50}, 'prompt_logprobs': None}, 'error': None}\n",
      "{'id': 'batch_req_ae530909-e8e2-4007-b195-46ecf318074c', 'custom_id': 'request-2', 'response': {'id': 'chat-85c90e9c85c64431a350a6780aca30ab', 'choices': [{'finish_reason': 'stop', 'index': 0, 'logprobs': None, 'message': {'content': '*shrugs*', 'role': 'assistant', 'function_call': None, 'tool_calls': []}, 'stop_reason': None}], 'created': 1729503200, 'model': 'meta-llama/Meta-Llama-3.1-8B-Instruct-fast', 'object': 'chat.completion', 'service_tier': None, 'system_fingerprint': None, 'usage': {'completion_tokens': 5, 'prompt_tokens': 44, 'total_tokens': 49}, 'prompt_logprobs': None}, 'error': None}\n",
      "{'id': 'batch_req_dd084ef9-cbb4-4877-a54a-ec8af6967cad', 'custom_id': 'request-1', 'response': {'id': 'chat-1772c8d418b64cdab1e04ea013101cf4', 'choices': [{'finish_reason': 'stop', 'index': 0, 'logprobs': None, 'message': {'content': 'How can I assist you today?', 'role': 'assistant', 'function_call': None, 'tool_calls': []}, 'stop_reason': None}], 'created': 1729503200, 'model': 'meta-llama/Meta-Llama-3.1-8B-Instruct-fast', 'object': 'chat.completion', 'service_tier': None, 'system_fingerprint': None, 'usage': {'completion_tokens': 8, 'prompt_tokens': 42, 'total_tokens': 50}, 'prompt_logprobs': None}, 'error': None}\n",
      "{'id': 'batch_req_6622ca90-7a8f-4cd4-96a8-9dbf7821f986', 'custom_id': 'request-2', 'response': {'id': 'chat-250be648bdfc4b7db2b6b492fe5dd3c4', 'choices': [{'finish_reason': 'stop', 'index': 0, 'logprobs': None, 'message': {'content': '*stares blankly*', 'role': 'assistant', 'function_call': None, 'tool_calls': []}, 'stop_reason': None}], 'created': 1729503201, 'model': 'meta-llama/Meta-Llama-3.1-8B-Instruct-fast', 'object': 'chat.completion', 'service_tier': None, 'system_fingerprint': None, 'usage': {'completion_tokens': 7, 'prompt_tokens': 44, 'total_tokens': 51}, 'prompt_logprobs': None}, 'error': None}\n"
     ]
    }
   ],
   "source": [
    "import json\n",
    "file_response = client.files.content(status.output_file_id)\n",
    "lines = file_response.content.splitlines()\n",
    "for line in lines:\n",
    "    print(json.loads(line))"
   ]
  },
  {
   "cell_type": "code",
   "execution_count": 721,
   "metadata": {},
   "outputs": [
    {
     "data": {
      "text/plain": [
       "{'data': [{'id': 'batch_df3346b5-4c2c-4f36-9b30-aeedfa485a59',\n",
       "   'completion_window': '24h',\n",
       "   'created_at': 1729502538,\n",
       "   'endpoint': '/v1/chat/completions',\n",
       "   'input_file_id': '6425e0cf-1f38-48c0-882b-c34336112cc0',\n",
       "   'object': 'batch',\n",
       "   'status': 'running',\n",
       "   'cancelled_at': None,\n",
       "   'cancelling_at': None,\n",
       "   'completed_at': None,\n",
       "   'error_file_id': None,\n",
       "   'errors': None,\n",
       "   'expired_at': None,\n",
       "   'expires_at': None,\n",
       "   'failed_at': None,\n",
       "   'finalizing_at': None,\n",
       "   'in_progress_at': 1729502547,\n",
       "   'metadata': None,\n",
       "   'output_file_id': None,\n",
       "   'request_counts': {'completed': 0, 'failed': 0, 'total': 4}},\n",
       "  {'id': 'batch_e8b33ee8-c481-4d72-8648-1594fdbaa7ef',\n",
       "   'completion_window': '24h',\n",
       "   'created_at': 1729503195,\n",
       "   'endpoint': '/v1/chat/completions',\n",
       "   'input_file_id': '85b08f24-dbbe-4bdb-af56-ca84cd5b689c',\n",
       "   'object': 'batch',\n",
       "   'status': 'done',\n",
       "   'cancelled_at': None,\n",
       "   'cancelling_at': None,\n",
       "   'completed_at': 1729503202,\n",
       "   'error_file_id': None,\n",
       "   'errors': None,\n",
       "   'expired_at': None,\n",
       "   'expires_at': None,\n",
       "   'failed_at': None,\n",
       "   'finalizing_at': 1729503202,\n",
       "   'in_progress_at': 1729503197,\n",
       "   'metadata': None,\n",
       "   'output_file_id': 'bae13041-15a4-4335-8b98-36a3f66d6250',\n",
       "   'request_counts': {'completed': 4, 'failed': 0, 'total': 4}}],\n",
       " 'first_id': 'batch_df3346b5-4c2c-4f36-9b30-aeedfa485a59',\n",
       " 'last_id': 'batch_e8b33ee8-c481-4d72-8648-1594fdbaa7ef',\n",
       " 'has_more': False,\n",
       " 'object': 'list'}"
      ]
     },
     "execution_count": 721,
     "metadata": {},
     "output_type": "execute_result"
    }
   ],
   "source": [
    "client.batches.list().dict()"
   ]
  }
 ],
 "metadata": {
  "kernelspec": {
   "display_name": "Python 3",
   "language": "python",
   "name": "python3"
  },
  "language_info": {
   "codemirror_mode": {
    "name": "ipython",
    "version": 3
   },
   "file_extension": ".py",
   "mimetype": "text/x-python",
   "name": "python",
   "nbconvert_exporter": "python",
   "pygments_lexer": "ipython3",
   "version": "3.12.4"
  }
 },
 "nbformat": 4,
 "nbformat_minor": 2
}
