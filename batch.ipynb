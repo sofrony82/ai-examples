{
 "cells": [
  {
   "cell_type": "code",
   "execution_count": 735,
   "metadata": {},
   "outputs": [],
   "source": [
    "import os\n",
    "from openai import OpenAI\n",
    "\n",
    "client = OpenAI(\n",
    "    base_url=\"https://api.studio.nebius.ai/v1/\",\n",
    "    api_key=os.getenv('NB_STUDIO_API_KEY', ''),\n",
    ")\n"
   ]
  },
  {
   "cell_type": "code",
   "execution_count": 737,
   "metadata": {},
   "outputs": [
    {
     "data": {
      "text/plain": [
       "{'id': 'd8af680e-9be8-4634-b4a5-cfd675067aef',\n",
       " 'bytes': 9120315571,\n",
       " 'created_at': 1729516591,\n",
       " 'filename': 'batch.jsonl',\n",
       " 'object': 'file',\n",
       " 'purpose': 'batch',\n",
       " 'status': None,\n",
       " 'status_details': None}"
      ]
     },
     "execution_count": 737,
     "metadata": {},
     "output_type": "execute_result"
    }
   ],
   "source": [
    "batch_input_file = client.files.create(\n",
    "  file=open(\"/Users/sofrony/batch.jsonl\", \"rb\"),\n",
    "  purpose=\"batch\"\n",
    ")\n",
    "\n",
    "batch_input_file.dict()\n"
   ]
  },
  {
   "cell_type": "code",
   "execution_count": 738,
   "metadata": {},
   "outputs": [
    {
     "name": "stdout",
     "output_type": "stream",
     "text": [
      "d8af680e-9be8-4634-b4a5-cfd675067aef\n"
     ]
    },
    {
     "data": {
      "text/plain": [
       "{'id': 'batch_3416ef9e-7176-4ba1-8b00-8080984e0970',\n",
       " 'completion_window': '24h',\n",
       " 'created_at': 1729516667,\n",
       " 'endpoint': '/v1/chat/completions',\n",
       " 'input_file_id': 'd8af680e-9be8-4634-b4a5-cfd675067aef',\n",
       " 'object': 'batch',\n",
       " 'status': 'validating',\n",
       " 'request_counts': {}}"
      ]
     },
     "execution_count": 738,
     "metadata": {},
     "output_type": "execute_result"
    }
   ],
   "source": [
    "batch_input_file_id = batch_input_file.id\n",
    "print(batch_input_file_id)\n",
    "\n",
    "batch_id = client.batches.create(\n",
    "    input_file_id=batch_input_file_id,\n",
    "    endpoint=\"/v1/chat/completions\",\n",
    "    completion_window=\"24h\",\n",
    "    metadata={\n",
    "      \"description\": \"nightly eval job\"\n",
    "    }\n",
    ")\n",
    "\n",
    "batch_id.to_dict()"
   ]
  },
  {
   "cell_type": "code",
   "execution_count": 739,
   "metadata": {},
   "outputs": [
    {
     "data": {
      "text/plain": [
       "{'id': 'batch_3416ef9e-7176-4ba1-8b00-8080984e0970',\n",
       " 'completion_window': '24h',\n",
       " 'created_at': 1729516667,\n",
       " 'endpoint': '/v1/chat/completions',\n",
       " 'input_file_id': 'd8af680e-9be8-4634-b4a5-cfd675067aef',\n",
       " 'object': 'batch',\n",
       " 'status': 'validating',\n",
       " 'completed_at': None,\n",
       " 'error_file_id': None,\n",
       " 'finalizing_at': None,\n",
       " 'in_progress_at': None,\n",
       " 'output_file_id': None,\n",
       " 'request_counts': {}}"
      ]
     },
     "execution_count": 739,
     "metadata": {},
     "output_type": "execute_result"
    }
   ],
   "source": [
    "\n",
    "status = client.batches.retrieve(batch_id.id)\n",
    "status.to_dict()\n",
    "\n",
    "\n"
   ]
  },
  {
   "cell_type": "code",
   "execution_count": 753,
   "metadata": {},
   "outputs": [
    {
     "data": {
      "text/plain": [
       "{'id': 'batch_df3346b5-4c2c-4f36-9b30-aeedfa485a59',\n",
       " 'completion_window': '24h',\n",
       " 'created_at': 1729502538,\n",
       " 'endpoint': '/v1/chat/completions',\n",
       " 'input_file_id': '6425e0cf-1f38-48c0-882b-c34336112cc0',\n",
       " 'object': 'batch',\n",
       " 'status': 'done',\n",
       " 'completed_at': 1729513364,\n",
       " 'error_file_id': None,\n",
       " 'finalizing_at': 1729513363,\n",
       " 'in_progress_at': 1729502547,\n",
       " 'output_file_id': 'f01cbeef-4714-4edb-8896-25b712d287db',\n",
       " 'request_counts': {'completed': 4, 'failed': 0, 'total': 4}}"
      ]
     },
     "execution_count": 753,
     "metadata": {},
     "output_type": "execute_result"
    }
   ],
   "source": [
    "batch_id = client.batches.list().dict()['data'][0]['id']\n",
    "status = client.batches.retrieve(batch_id)\n",
    "status.to_dict()"
   ]
  },
  {
   "cell_type": "code",
   "execution_count": 754,
   "metadata": {},
   "outputs": [
    {
     "data": {
      "text/plain": [
       "{'id': 'f01cbeef-4714-4edb-8896-25b712d287db',\n",
       " 'bytes': 2477,\n",
       " 'created_at': 1729513364,\n",
       " 'filename': 'batch_df3346b5-4c2c-4f36-9b30-aeedfa485a59_output.jsonl',\n",
       " 'object': 'file',\n",
       " 'purpose': 'batch',\n",
       " 'status': None,\n",
       " 'status_details': None}"
      ]
     },
     "execution_count": 754,
     "metadata": {},
     "output_type": "execute_result"
    }
   ],
   "source": [
    "file_response = client.files.retrieve(status.output_file_id)\n",
    "file_response.dict()"
   ]
  },
  {
   "cell_type": "code",
   "execution_count": 755,
   "metadata": {},
   "outputs": [
    {
     "name": "stdout",
     "output_type": "stream",
     "text": [
      "{'id': 'batch_req_e3f24ba0-8305-4395-9d1f-95703a363986', 'custom_id': 'request-1', 'response': {'id': 'chat-1bd17149372044158cc19d7859a5506d', 'choices': [{'finish_reason': 'stop', 'index': 0, 'logprobs': None, 'message': {'content': 'Hello! How can I assist you today?', 'role': 'assistant', 'function_call': None, 'tool_calls': []}, 'stop_reason': None}], 'created': 1729513357, 'model': 'meta-llama/Meta-Llama-3.1-8B-Instruct-fast', 'object': 'chat.completion', 'service_tier': None, 'system_fingerprint': None, 'usage': {'completion_tokens': 10, 'prompt_tokens': 22, 'total_tokens': 32}, 'prompt_logprobs': None}, 'error': None}\n",
      "{'id': 'batch_req_ded9f16e-af25-466b-a155-27a3a72dc09e', 'custom_id': 'request-2', 'response': {'id': 'chat-41d9be70810441c68b2fcd89b7f3bc58', 'choices': [{'finish_reason': 'stop', 'index': 0, 'logprobs': None, 'message': {'content': '*shrugs*', 'role': 'assistant', 'function_call': None, 'tool_calls': []}, 'stop_reason': None}], 'created': 1729513359, 'model': 'meta-llama/Meta-Llama-3.1-8B-Instruct-fast', 'object': 'chat.completion', 'service_tier': None, 'system_fingerprint': None, 'usage': {'completion_tokens': 5, 'prompt_tokens': 24, 'total_tokens': 29}, 'prompt_logprobs': None}, 'error': None}\n",
      "{'id': 'batch_req_f1dbb223-86b6-4f1f-9697-4c07cdd1df86', 'custom_id': 'request-2', 'response': {'id': 'chat-a42fe71b08214b0e95234ddde13f995d', 'choices': [{'finish_reason': 'stop', 'index': 0, 'logprobs': None, 'message': {'content': '*sits silently*', 'role': 'assistant', 'function_call': None, 'tool_calls': []}, 'stop_reason': None}], 'created': 1729513360, 'model': 'meta-llama/Meta-Llama-3.1-8B-Instruct-fast', 'object': 'chat.completion', 'service_tier': None, 'system_fingerprint': None, 'usage': {'completion_tokens': 5, 'prompt_tokens': 24, 'total_tokens': 29}, 'prompt_logprobs': None}, 'error': None}\n",
      "{'id': 'batch_req_374315b6-4749-4239-8f47-de39293bc48d', 'custom_id': 'request-1', 'response': {'id': 'chat-b8cca8b11f434e07b1698bc3948b1a3b', 'choices': [{'finish_reason': 'stop', 'index': 0, 'logprobs': None, 'message': {'content': 'How can I assist you today?', 'role': 'assistant', 'function_call': None, 'tool_calls': []}, 'stop_reason': None}], 'created': 1729513360, 'model': 'meta-llama/Meta-Llama-3.1-8B-Instruct-fast', 'object': 'chat.completion', 'service_tier': None, 'system_fingerprint': None, 'usage': {'completion_tokens': 8, 'prompt_tokens': 22, 'total_tokens': 30}, 'prompt_logprobs': None}, 'error': None}\n"
     ]
    }
   ],
   "source": [
    "import json\n",
    "file_response = client.files.content(status.output_file_id)\n",
    "lines = file_response.content.splitlines()\n",
    "for line in lines:\n",
    "    print(json.loads(line))"
   ]
  }
 ],
 "metadata": {
  "kernelspec": {
   "display_name": "Python 3",
   "language": "python",
   "name": "python3"
  },
  "language_info": {
   "codemirror_mode": {
    "name": "ipython",
    "version": 3
   },
   "file_extension": ".py",
   "mimetype": "text/x-python",
   "name": "python",
   "nbconvert_exporter": "python",
   "pygments_lexer": "ipython3",
   "version": "3.12.4"
  }
 },
 "nbformat": 4,
 "nbformat_minor": 2
}
